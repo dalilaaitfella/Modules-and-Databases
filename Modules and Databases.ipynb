{
 "cells": [
  {
   "cell_type": "code",
   "execution_count": 3,
   "id": "cc52232c",
   "metadata": {},
   "outputs": [
    {
     "name": "stdout",
     "output_type": "stream",
     "text": [
      "open 9-5 daily\n"
     ]
    }
   ],
   "source": [
    "import zoo \n",
    "zoo.hours()\n"
   ]
  },
  {
   "cell_type": "code",
   "execution_count": 4,
   "id": "6c00aff8",
   "metadata": {},
   "outputs": [
    {
     "name": "stdout",
     "output_type": "stream",
     "text": [
      "open 9-5 daily\n"
     ]
    }
   ],
   "source": [
    "import zoo as managerie \n",
    "managerie.hours() \n"
   ]
  },
  {
   "cell_type": "code",
   "execution_count": null,
   "id": "40181d10",
   "metadata": {},
   "outputs": [
    {
     "ename": "IndentationError",
     "evalue": "unexpected indent (2386205692.py, line 2)",
     "output_type": "error",
     "traceback": [
      "\u001b[1;36m  Cell \u001b[1;32mIn[5], line 2\u001b[1;36m\u001b[0m\n\u001b[1;33m    with open ('books2.cvs', 'w' , encoding='utf-8') as file:\u001b[0m\n\u001b[1;37m    ^\u001b[0m\n\u001b[1;31mIndentationError\u001b[0m\u001b[1;31m:\u001b[0m unexpected indent\n"
     ]
    }
   ],
   "source": [
    "# 16.3\n",
    "with open ('books2.csv', 'w' , encoding='utf-8') as file:\n",
    "  file.write('title,author,year\\n')\n",
    "  file.write('the Weirdstone of Brisingamen,Alan Garner,1960\\n')\n",
    "  file.write('Perdio Street Station,China Mieville,2000\\n')\n",
    "  file.write('Thud!,Terry Pratchett,2005\\n')\n",
    "  file.write('The spellman Files,Lisa Lutz,2007\\n')\n",
    "  file.write('Small Gods, Terry Pratchett,1992\\n')\n",
    "  \n"
   ]
  }
 ],
 "metadata": {
  "kernelspec": {
   "display_name": "base",
   "language": "python",
   "name": "python3"
  },
  "language_info": {
   "codemirror_mode": {
    "name": "ipython",
    "version": 3
   },
   "file_extension": ".py",
   "mimetype": "text/x-python",
   "name": "python",
   "nbconvert_exporter": "python",
   "pygments_lexer": "ipython3",
   "version": "3.12.7"
  }
 },
 "nbformat": 4,
 "nbformat_minor": 5
}
